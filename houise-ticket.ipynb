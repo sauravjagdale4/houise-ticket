{
 "cells": [
  {
   "cell_type": "code",
   "execution_count": 9,
   "metadata": {},
   "outputs": [],
   "source": [
    "def getRandomNumber(numberList, n):\n",
    "    random.shuffle(numberList);\n",
    "    return numberList[0:n];"
   ]
  },
  {
   "cell_type": "code",
   "execution_count": 10,
   "metadata": {},
   "outputs": [],
   "source": [
    "import random"
   ]
  },
  {
   "cell_type": "code",
   "execution_count": 18,
   "metadata": {},
   "outputs": [],
   "source": [
    "def getTicket():\n",
    "    numberList =list()\n",
    "    for i in range(0,10):\n",
    "        numberList.append(i)\n",
    "    ticket = []\n",
    "    row = getRandomNumber(numberList,5)\n",
    "    ticket.append(row)\n",
    "    indexMap = {}\n",
    "    for j in range(1,3):\n",
    "        for i in row :\n",
    "            if(i in indexMap):\n",
    "                indexMap[i]= indexMap[i]+1\n",
    "                numberList.remove(i);\n",
    "            else:\n",
    "                indexMap[i]= 1;\n",
    "        row = getRandomNumber(numberList,5)\n",
    "        ticket.append(row)\n",
    "    print(indexMap)\n",
    "    for i in range(0,10):\n",
    "        if(i in indexMap):\n",
    "            numberList1 =list()\n",
    "            for j in range(i*10+1,(i+1)*10+1):\n",
    "                numberList1.append(j)\n",
    "            indexMap[i] = getRandomNumber(numberList1,3)\n",
    "        else:\n",
    "            indexMap[i]=[]\n",
    "    for j in range(0,3):\n",
    "        indexs = ticket[j]\n",
    "        row = []\n",
    "        for i in range(0,10):\n",
    "            if i in indexs :\n",
    "                row.append(indexMap[i].pop(0))\n",
    "            else:\n",
    "                row.append(0)\n",
    "        ticket[j]= row\n",
    "    return ticket "
   ]
  },
  {
   "cell_type": "code",
   "execution_count": 19,
   "metadata": {},
   "outputs": [
    {
     "name": "stdout",
     "output_type": "stream",
     "text": [
      "{2: 2, 5: 1, 7: 1, 1: 2, 6: 1, 8: 1, 9: 1, 3: 1}\n"
     ]
    },
    {
     "data": {
      "text/plain": [
       "[[0, 16, 24, 0, 0, 57, 68, 74, 0, 0],\n",
       " [0, 11, 23, 31, 0, 0, 0, 0, 86, 99],\n",
       " [0, 0, 0, 32, 0, 52, 70, 79, 0, 96]]"
      ]
     },
     "execution_count": 19,
     "metadata": {},
     "output_type": "execute_result"
    }
   ],
   "source": [
    "ticket = getTicket()\n",
    "ticket"
   ]
  },
  {
   "cell_type": "code",
   "execution_count": null,
   "metadata": {},
   "outputs": [],
   "source": []
  }
 ],
 "metadata": {
  "kernelspec": {
   "display_name": "Python 3",
   "language": "python",
   "name": "python3"
  },
  "language_info": {
   "codemirror_mode": {
    "name": "ipython",
    "version": 3
   },
   "file_extension": ".py",
   "mimetype": "text/x-python",
   "name": "python",
   "nbconvert_exporter": "python",
   "pygments_lexer": "ipython3",
   "version": "3.6.7"
  }
 },
 "nbformat": 4,
 "nbformat_minor": 2
}
